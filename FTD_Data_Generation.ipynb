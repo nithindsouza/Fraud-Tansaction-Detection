{
  "nbformat": 4,
  "nbformat_minor": 0,
  "metadata": {
    "kernelspec": {
      "display_name": "Python 3",
      "language": "python",
      "name": "python3"
    },
    "language_info": {
      "codemirror_mode": {
        "name": "ipython",
        "version": 3
      },
      "file_extension": ".py",
      "mimetype": "text/x-python",
      "name": "python",
      "nbconvert_exporter": "python",
      "pygments_lexer": "ipython3",
      "version": "3.8.3"
    },
    "colab": {
      "name": "FTD_Data_Generation.ipynb",
      "provenance": [],
      "collapsed_sections": [],
      "include_colab_link": true
    },
    "accelerator": "GPU"
  },
  "cells": [
    {
      "cell_type": "markdown",
      "metadata": {
        "id": "view-in-github",
        "colab_type": "text"
      },
      "source": [
        "<a href=\"https://colab.research.google.com/github/nithindsouza/Fraud-Tansaction-Detection/blob/main/FTD_Data_Generation.ipynb\" target=\"_parent\"><img src=\"https://colab.research.google.com/assets/colab-badge.svg\" alt=\"Open In Colab\"/></a>"
      ]
    },
    {
      "cell_type": "markdown",
      "metadata": {
        "id": "Hor6TpYio8Do"
      },
      "source": [
        "\n",
        "# Transaction data simulator\n",
        "<h4>Transaction features</h4>\n",
        "\n",
        "Our focus will be on the most essential features of a transaction. In essence, a payment card transaction consists of any amount paid to a merchant by a customer at a certain time. The six main features that summarise a transaction therefore are:\n",
        "\n",
        "1. The transaction ID: A unique identifier for the transaction\n",
        "2. The date and time: Date and time at which the transaction occurs\n",
        "3. The customer ID: The identifier for the customer. Each customer has a unique identifier\n",
        "4. The terminal ID: The identifier for the merchant (or more precisely the terminal). Each terminal has a unique identifier\n",
        "5. The transaction amount: The amount of the transaction.\n",
        "6. The fraud label: A binary variable, with the value $0$ for a legitimate transaction, or the value $1$ for a fraudulent transaction.\n",
        "\n",
        "These features will be referred to as `TRANSACTION_ID`, `TX_DATETIME`, `CUSTOMER_ID`, `TERMINAL_ID`, `TX_AMOUNT`, and `TX_FRAUD`. \n",
        "\n",
        "The goal of the transaction data simulator will be to generate a table of transactions with these features."
      ]
    },
    {
      "cell_type": "markdown",
      "metadata": {
        "id": "vGdmuYXlo8D3"
      },
      "source": [
        "<h4>Transaction generation process</h4>\n",
        "\n",
        "The simulation will consist of five main steps:\n",
        "\n",
        "1. **Generation of customer profiles:** Every customer is different in their spending habits. This will be simulated by defining some properties for each customer. The main properties will be their geographical location, their spending frequency, and their spending amounts. The customer properties will be represented as a table, referred to as the *customer profile table*. \n",
        "2. **Generation of terminal profiles:** Terminal properties will simply consist of a geographical location. The terminal properties will be represented as a table, referred to as the *terminal profile table*.\n",
        "3. **Association of customer profiles to terminals:** We will assume that customers only make transactions on terminals that are within a radius of $r$ of their geographical locations. This makes the simple assumption that a customer only makes transactions on terminals that are geographically close to their location. This step will consist of adding a feature 'list_terminals' to each customer profile, that contains the set of terminals that a customer can use.\n",
        "4. **Generation of transactions:** The simulator will loop over the set of customer profiles, and generate transactions according to their properties (spending frequencies and amounts, and available terminals). This will result in a table of transactions.\n",
        "5. **Generation of fraud scenarios:** This last step will label the transactions as legitimate or genuine. This will be done by following three different fraud scenarios.\n",
        "\n",
        "The following sections provide the implementation for each of these steps. \n",
        "    "
      ]
    },
    {
      "cell_type": "code",
      "metadata": {
        "tags": [
          "hide-cell"
        ],
        "id": "YTN9UaDNo8D6"
      },
      "source": [
        "# Necessary imports for this notebook\n",
        "import os\n",
        "\n",
        "import numpy as np\n",
        "import pandas as pd\n",
        "\n",
        "import datetime\n",
        "import time\n",
        "\n",
        "import random\n",
        "\n",
        "# For plotting\n",
        "%matplotlib inline\n",
        "\n",
        "import matplotlib.pyplot as plt\n",
        "import seaborn as sns\n",
        "\n",
        "sns.set_style('darkgrid', {'axes.facecolor': '0.9'})\n"
      ],
      "execution_count": 1,
      "outputs": []
    },
    {
      "cell_type": "markdown",
      "metadata": {
        "id": "rTngy85Uo8D-"
      },
      "source": [
        "## Customer profiles generation\n",
        "\n",
        "Each customer will be defined by the following properties:\n",
        "\n",
        "* `CUSTOMER_ID`: The customer unique ID\n",
        "* (`x_customer_id`,`y_customer_id`): A pair of real coordinates (`x_customer_id`,`y_customer_id`) in a 100 * 100 grid, that defines the geographical location of the customer\n",
        "* (`mean_amount`, `std_amount`):  The mean and standard deviation of the transaction amounts for the customer, assuming that the transaction amounts follow a normal distribution. The `mean_amount` will be drawn from a uniform distribution (5,100) and the `std_amount` will be set as the `mean_amount` divided by two. \n",
        "* `mean_nb_tx_per_day`:  The average number of transactions per day for the customer, assuming that the number of transactions per day follows a Poisson distribution. This number will be drawn from a uniform distribution (0,4). \n",
        "\n",
        "The `generate_customer_profiles_table` function provides an implementation for generating a table of customer profiles. It takes as input the number of customers for which to generate a profile and a random state for reproducibility. It returns a DataFrame containing the properties for each customer. "
      ]
    },
    {
      "cell_type": "code",
      "metadata": {
        "tags": [
          "hide-cell"
        ],
        "id": "GzGJLnDyo8EA"
      },
      "source": [
        "def generate_customer_profiles_table(n_customers, random_state=0):\n",
        "    \n",
        "    np.random.seed(random_state)\n",
        "        \n",
        "    customer_id_properties=[]\n",
        "    \n",
        "    # Generate customer properties from random distributions \n",
        "    for customer_id in range(n_customers):\n",
        "        \n",
        "        x_customer_id = np.random.uniform(0,100)\n",
        "        y_customer_id = np.random.uniform(0,100)\n",
        "        \n",
        "        mean_amount = np.random.uniform(5,100) # Arbitrary (but sensible) value \n",
        "        std_amount = mean_amount/2 # Arbitrary (but sensible) value\n",
        "        \n",
        "        mean_nb_tx_per_day = np.random.uniform(0,4) # Arbitrary (but sensible) value \n",
        "        \n",
        "        customer_id_properties.append([customer_id,\n",
        "                                      x_customer_id, y_customer_id,\n",
        "                                      mean_amount, std_amount,\n",
        "                                      mean_nb_tx_per_day])\n",
        "        \n",
        "    customer_profiles_table = pd.DataFrame(customer_id_properties, columns=['CUSTOMER_ID',\n",
        "                                                                      'x_customer_id', 'y_customer_id',\n",
        "                                                                      'mean_amount', 'std_amount',\n",
        "                                                                      'mean_nb_tx_per_day'])\n",
        "    \n",
        "    return customer_profiles_table"
      ],
      "execution_count": 2,
      "outputs": []
    },
    {
      "cell_type": "markdown",
      "metadata": {
        "id": "vVqIG9ako8EC"
      },
      "source": [
        "As an example, let us generate a customer profile table for five customers:"
      ]
    },
    {
      "cell_type": "code",
      "metadata": {
        "colab": {
          "base_uri": "https://localhost:8080/",
          "height": 205
        },
        "id": "aYxbNSIno8EE",
        "outputId": "fa24c0fa-7881-423c-bd97-fa0e467e2d8a"
      },
      "source": [
        "n_customers = 5\n",
        "customer_profiles_table = generate_customer_profiles_table(n_customers, random_state = 0)\n",
        "customer_profiles_table"
      ],
      "execution_count": 3,
      "outputs": [
        {
          "output_type": "execute_result",
          "data": {
            "text/html": [
              "<div>\n",
              "<style scoped>\n",
              "    .dataframe tbody tr th:only-of-type {\n",
              "        vertical-align: middle;\n",
              "    }\n",
              "\n",
              "    .dataframe tbody tr th {\n",
              "        vertical-align: top;\n",
              "    }\n",
              "\n",
              "    .dataframe thead th {\n",
              "        text-align: right;\n",
              "    }\n",
              "</style>\n",
              "<table border=\"1\" class=\"dataframe\">\n",
              "  <thead>\n",
              "    <tr style=\"text-align: right;\">\n",
              "      <th></th>\n",
              "      <th>CUSTOMER_ID</th>\n",
              "      <th>x_customer_id</th>\n",
              "      <th>y_customer_id</th>\n",
              "      <th>mean_amount</th>\n",
              "      <th>std_amount</th>\n",
              "      <th>mean_nb_tx_per_day</th>\n",
              "    </tr>\n",
              "  </thead>\n",
              "  <tbody>\n",
              "    <tr>\n",
              "      <th>0</th>\n",
              "      <td>0</td>\n",
              "      <td>54.881350</td>\n",
              "      <td>71.518937</td>\n",
              "      <td>62.262521</td>\n",
              "      <td>31.131260</td>\n",
              "      <td>2.179533</td>\n",
              "    </tr>\n",
              "    <tr>\n",
              "      <th>1</th>\n",
              "      <td>1</td>\n",
              "      <td>42.365480</td>\n",
              "      <td>64.589411</td>\n",
              "      <td>46.570785</td>\n",
              "      <td>23.285393</td>\n",
              "      <td>3.567092</td>\n",
              "    </tr>\n",
              "    <tr>\n",
              "      <th>2</th>\n",
              "      <td>2</td>\n",
              "      <td>96.366276</td>\n",
              "      <td>38.344152</td>\n",
              "      <td>80.213879</td>\n",
              "      <td>40.106939</td>\n",
              "      <td>2.115580</td>\n",
              "    </tr>\n",
              "    <tr>\n",
              "      <th>3</th>\n",
              "      <td>3</td>\n",
              "      <td>56.804456</td>\n",
              "      <td>92.559664</td>\n",
              "      <td>11.748426</td>\n",
              "      <td>5.874213</td>\n",
              "      <td>0.348517</td>\n",
              "    </tr>\n",
              "    <tr>\n",
              "      <th>4</th>\n",
              "      <td>4</td>\n",
              "      <td>2.021840</td>\n",
              "      <td>83.261985</td>\n",
              "      <td>78.924891</td>\n",
              "      <td>39.462446</td>\n",
              "      <td>3.480049</td>\n",
              "    </tr>\n",
              "  </tbody>\n",
              "</table>\n",
              "</div>"
            ],
            "text/plain": [
              "   CUSTOMER_ID  x_customer_id  ...  std_amount  mean_nb_tx_per_day\n",
              "0            0      54.881350  ...   31.131260            2.179533\n",
              "1            1      42.365480  ...   23.285393            3.567092\n",
              "2            2      96.366276  ...   40.106939            2.115580\n",
              "3            3      56.804456  ...    5.874213            0.348517\n",
              "4            4       2.021840  ...   39.462446            3.480049\n",
              "\n",
              "[5 rows x 6 columns]"
            ]
          },
          "metadata": {},
          "execution_count": 3
        }
      ]
    },
    {
      "cell_type": "markdown",
      "metadata": {
        "id": "nfCpp8Vxo8EH"
      },
      "source": [
        "## Terminal profiles generation\n",
        "\n",
        "Each terminal will be defined by the following properties:\n",
        "\n",
        "* `TERMINAL_ID`: The terminal ID\n",
        "* (`x_terminal_id`,`y_terminal_id`): A pair of real coordinates (`x_terminal_id`,`y_terminal_id`) in a 100 * 100 grid, that defines the geographical location of the terminal\n",
        "\n",
        "The `generate_terminal_profiles_table` function provides an implementation for generating a table of terminal profiles. It takes as input the number of terminals for which to generate a profile and a random state for reproducibility. It returns a DataFrame containing the properties for each terminal. \n"
      ]
    },
    {
      "cell_type": "code",
      "metadata": {
        "tags": [
          "hide-cell"
        ],
        "id": "tKzuuB9fo8EK"
      },
      "source": [
        "def generate_terminal_profiles_table(n_terminals, random_state=0):\n",
        "    \n",
        "    np.random.seed(random_state)\n",
        "        \n",
        "    terminal_id_properties=[]\n",
        "    \n",
        "    # Generate terminal properties from random distributions \n",
        "    for terminal_id in range(n_terminals):\n",
        "        \n",
        "        x_terminal_id = np.random.uniform(0,100)\n",
        "        y_terminal_id = np.random.uniform(0,100)\n",
        "        \n",
        "        terminal_id_properties.append([terminal_id,\n",
        "                                      x_terminal_id, y_terminal_id])\n",
        "                                       \n",
        "    terminal_profiles_table = pd.DataFrame(terminal_id_properties, columns=['TERMINAL_ID',\n",
        "                                                                      'x_terminal_id', 'y_terminal_id'])\n",
        "    \n",
        "    return terminal_profiles_table"
      ],
      "execution_count": 4,
      "outputs": []
    },
    {
      "cell_type": "markdown",
      "metadata": {
        "id": "-48hFBGco8EL"
      },
      "source": [
        "As an example, let us generate a customer terminal table for five terminals:"
      ]
    },
    {
      "cell_type": "code",
      "metadata": {
        "colab": {
          "base_uri": "https://localhost:8080/",
          "height": 205
        },
        "id": "vaadg6m7o8EM",
        "outputId": "375b7eb9-ce6a-4674-cb4c-cf330bd2b677"
      },
      "source": [
        "n_terminals = 5\n",
        "terminal_profiles_table = generate_terminal_profiles_table(n_terminals, random_state = 0)\n",
        "terminal_profiles_table"
      ],
      "execution_count": 5,
      "outputs": [
        {
          "output_type": "execute_result",
          "data": {
            "text/html": [
              "<div>\n",
              "<style scoped>\n",
              "    .dataframe tbody tr th:only-of-type {\n",
              "        vertical-align: middle;\n",
              "    }\n",
              "\n",
              "    .dataframe tbody tr th {\n",
              "        vertical-align: top;\n",
              "    }\n",
              "\n",
              "    .dataframe thead th {\n",
              "        text-align: right;\n",
              "    }\n",
              "</style>\n",
              "<table border=\"1\" class=\"dataframe\">\n",
              "  <thead>\n",
              "    <tr style=\"text-align: right;\">\n",
              "      <th></th>\n",
              "      <th>TERMINAL_ID</th>\n",
              "      <th>x_terminal_id</th>\n",
              "      <th>y_terminal_id</th>\n",
              "    </tr>\n",
              "  </thead>\n",
              "  <tbody>\n",
              "    <tr>\n",
              "      <th>0</th>\n",
              "      <td>0</td>\n",
              "      <td>54.881350</td>\n",
              "      <td>71.518937</td>\n",
              "    </tr>\n",
              "    <tr>\n",
              "      <th>1</th>\n",
              "      <td>1</td>\n",
              "      <td>60.276338</td>\n",
              "      <td>54.488318</td>\n",
              "    </tr>\n",
              "    <tr>\n",
              "      <th>2</th>\n",
              "      <td>2</td>\n",
              "      <td>42.365480</td>\n",
              "      <td>64.589411</td>\n",
              "    </tr>\n",
              "    <tr>\n",
              "      <th>3</th>\n",
              "      <td>3</td>\n",
              "      <td>43.758721</td>\n",
              "      <td>89.177300</td>\n",
              "    </tr>\n",
              "    <tr>\n",
              "      <th>4</th>\n",
              "      <td>4</td>\n",
              "      <td>96.366276</td>\n",
              "      <td>38.344152</td>\n",
              "    </tr>\n",
              "  </tbody>\n",
              "</table>\n",
              "</div>"
            ],
            "text/plain": [
              "   TERMINAL_ID  x_terminal_id  y_terminal_id\n",
              "0            0      54.881350      71.518937\n",
              "1            1      60.276338      54.488318\n",
              "2            2      42.365480      64.589411\n",
              "3            3      43.758721      89.177300\n",
              "4            4      96.366276      38.344152"
            ]
          },
          "metadata": {},
          "execution_count": 5
        }
      ]
    },
    {
      "cell_type": "markdown",
      "metadata": {
        "id": "s-5chHwMo8EO"
      },
      "source": [
        "## Association of customer profiles to terminals\n",
        "\n",
        "Let us now associate terminals to customer profiles. In our design, customers can only perform transactions on terminals that are within a radius of `r` of their geographical locations. \n",
        "\n",
        "Let us first write a function, called `get_list_terminals_within_radius`, which finds these terminals for a customer profile. The function will take as input a customer profile (any row in the customer profiles table), an array that contains the geographical location of all terminals, and the radius `r`. It will return the list of terminals within a radius of `r` for that customer. "
      ]
    },
    {
      "cell_type": "code",
      "metadata": {
        "tags": [
          "hide-cell"
        ],
        "id": "KOV2jvXSo8EQ"
      },
      "source": [
        "def get_list_terminals_within_radius(customer_profile, x_y_terminals, r):\n",
        "    \n",
        "    # Use numpy arrays in the following to speed up computations\n",
        "    \n",
        "    # Location (x,y) of customer as numpy array\n",
        "    x_y_customer = customer_profile[['x_customer_id','y_customer_id']].values.astype(float)\n",
        "    \n",
        "    # Squared difference in coordinates between customer and terminal locations\n",
        "    squared_diff_x_y = np.square(x_y_customer - x_y_terminals)\n",
        "    \n",
        "    # Sum along rows and compute suared root to get distance\n",
        "    dist_x_y = np.sqrt(np.sum(squared_diff_x_y, axis=1))\n",
        "    \n",
        "    # Get the indices of terminals which are at a distance less than r\n",
        "    available_terminals = list(np.where(dist_x_y<r)[0])\n",
        "    \n",
        "    # Return the list of terminal IDs\n",
        "    return available_terminals\n",
        "    "
      ],
      "execution_count": 6,
      "outputs": []
    },
    {
      "cell_type": "markdown",
      "metadata": {
        "id": "MqwPstpfo8ER"
      },
      "source": [
        "As an example, let us get the list of terminals that are within a radius $r=50$ of the last customer:"
      ]
    },
    {
      "cell_type": "code",
      "metadata": {
        "colab": {
          "base_uri": "https://localhost:8080/"
        },
        "id": "i6JcScICo8ES",
        "outputId": "a582e795-97a6-4716-ce82-eaa99a5959eb"
      },
      "source": [
        "# We first get the geographical locations of all terminals as a numpy array\n",
        "x_y_terminals = terminal_profiles_table[['x_terminal_id','y_terminal_id']].values.astype(float)\n",
        "# And get the list of terminals within radius of $50$ for the last customer\n",
        "get_list_terminals_within_radius(customer_profiles_table.iloc[4], x_y_terminals=x_y_terminals, r=50)"
      ],
      "execution_count": 7,
      "outputs": [
        {
          "output_type": "execute_result",
          "data": {
            "text/plain": [
              "[2, 3]"
            ]
          },
          "metadata": {},
          "execution_count": 7
        }
      ]
    },
    {
      "cell_type": "markdown",
      "metadata": {
        "id": "QCxWdx4go8ES"
      },
      "source": [
        "The list contains the third and fourth terminals, which are indeed the only ones within a radius of $50$ of the last customer. "
      ]
    },
    {
      "cell_type": "code",
      "metadata": {
        "colab": {
          "base_uri": "https://localhost:8080/",
          "height": 205
        },
        "id": "GjaSDXD4o8ET",
        "outputId": "e0159335-6b75-4865-8984-5f3e8f565773"
      },
      "source": [
        "terminal_profiles_table"
      ],
      "execution_count": 8,
      "outputs": [
        {
          "output_type": "execute_result",
          "data": {
            "text/html": [
              "<div>\n",
              "<style scoped>\n",
              "    .dataframe tbody tr th:only-of-type {\n",
              "        vertical-align: middle;\n",
              "    }\n",
              "\n",
              "    .dataframe tbody tr th {\n",
              "        vertical-align: top;\n",
              "    }\n",
              "\n",
              "    .dataframe thead th {\n",
              "        text-align: right;\n",
              "    }\n",
              "</style>\n",
              "<table border=\"1\" class=\"dataframe\">\n",
              "  <thead>\n",
              "    <tr style=\"text-align: right;\">\n",
              "      <th></th>\n",
              "      <th>TERMINAL_ID</th>\n",
              "      <th>x_terminal_id</th>\n",
              "      <th>y_terminal_id</th>\n",
              "    </tr>\n",
              "  </thead>\n",
              "  <tbody>\n",
              "    <tr>\n",
              "      <th>0</th>\n",
              "      <td>0</td>\n",
              "      <td>54.881350</td>\n",
              "      <td>71.518937</td>\n",
              "    </tr>\n",
              "    <tr>\n",
              "      <th>1</th>\n",
              "      <td>1</td>\n",
              "      <td>60.276338</td>\n",
              "      <td>54.488318</td>\n",
              "    </tr>\n",
              "    <tr>\n",
              "      <th>2</th>\n",
              "      <td>2</td>\n",
              "      <td>42.365480</td>\n",
              "      <td>64.589411</td>\n",
              "    </tr>\n",
              "    <tr>\n",
              "      <th>3</th>\n",
              "      <td>3</td>\n",
              "      <td>43.758721</td>\n",
              "      <td>89.177300</td>\n",
              "    </tr>\n",
              "    <tr>\n",
              "      <th>4</th>\n",
              "      <td>4</td>\n",
              "      <td>96.366276</td>\n",
              "      <td>38.344152</td>\n",
              "    </tr>\n",
              "  </tbody>\n",
              "</table>\n",
              "</div>"
            ],
            "text/plain": [
              "   TERMINAL_ID  x_terminal_id  y_terminal_id\n",
              "0            0      54.881350      71.518937\n",
              "1            1      60.276338      54.488318\n",
              "2            2      42.365480      64.589411\n",
              "3            3      43.758721      89.177300\n",
              "4            4      96.366276      38.344152"
            ]
          },
          "metadata": {},
          "execution_count": 8
        }
      ]
    },
    {
      "cell_type": "markdown",
      "metadata": {
        "id": "W0AUGZ6co8EU"
      },
      "source": [
        "For better visualization, let us plot \n",
        "\n",
        "* The locations of all terminals (in red)\n",
        "* The location of the last customer (in blue)\n",
        "* The region within radius of 50 of the first customer (in green)"
      ]
    },
    {
      "cell_type": "code",
      "metadata": {
        "tags": [
          "hide-cell"
        ],
        "id": "-KbKKUuEo8EU"
      },
      "source": [
        "%%capture\n",
        "\n",
        "terminals_available_to_customer_fig, ax = plt.subplots(figsize=(5,5))\n",
        "\n",
        "# Plot locations of terminals\n",
        "ax.scatter(terminal_profiles_table.x_terminal_id.values, \n",
        "           terminal_profiles_table.y_terminal_id.values, \n",
        "           color='blue', label = 'Locations of terminals')\n",
        "\n",
        "# Plot location of the last customer\n",
        "customer_id=4\n",
        "ax.scatter(customer_profiles_table.iloc[customer_id].x_customer_id, \n",
        "           customer_profiles_table.iloc[customer_id].y_customer_id, \n",
        "           color='red',label=\"Location of last customer\")\n",
        "\n",
        "ax.legend(loc = 'upper left', bbox_to_anchor=(1.05, 1))\n",
        "\n",
        "# Plot the region within a radius of 50 of the last customr\n",
        "circ = plt.Circle((customer_profiles_table.iloc[customer_id].x_customer_id,\n",
        "                   customer_profiles_table.iloc[customer_id].y_customer_id), radius=50, color='g', alpha=0.2)\n",
        "ax.add_patch(circ)\n",
        "\n",
        "fontsize=15\n",
        "\n",
        "ax.set_title(\"Green circle: \\n Terminals within a radius of 50 \\n of the last customer\")\n",
        "ax.set_xlim([0, 100])\n",
        "ax.set_ylim([0, 100])\n",
        "    \n",
        "ax.set_xlabel('x_terminal_id', fontsize=fontsize)\n",
        "ax.set_ylabel('y_terminal_id', fontsize=fontsize)\n",
        "\n"
      ],
      "execution_count": 9,
      "outputs": []
    },
    {
      "cell_type": "code",
      "metadata": {
        "colab": {
          "base_uri": "https://localhost:8080/",
          "height": 386
        },
        "id": "E4Zk0yiJo8EV",
        "outputId": "3b826dee-aca2-406e-8d71-4a5dc49b7805"
      },
      "source": [
        "terminals_available_to_customer_fig"
      ],
      "execution_count": 10,
      "outputs": [
        {
          "output_type": "execute_result",
          "data": {
            "image/png": "[encoded data removed]",
            "text/plain": [
              "<Figure size 360x360 with 1 Axes>"
            ]
          },
          "metadata": {},
          "execution_count": 10
        }
      ]
    },
    {
      "cell_type": "markdown",
      "metadata": {
        "id": "Bl8ry8yBo8EW"
      },
      "source": [
        "Computing the list of available terminals for each customer is then straightforward, using the panda `apply` function. We store the results as a new column `available_terminals` in the customer profiles table."
      ]
    },
    {
      "cell_type": "code",
      "metadata": {
        "colab": {
          "base_uri": "https://localhost:8080/",
          "height": 205
        },
        "id": "qiMOPZako8EW",
        "outputId": "daa717de-3067-44fc-d928-187fe7b4641e"
      },
      "source": [
        "customer_profiles_table['available_terminals']=customer_profiles_table.apply(lambda x : get_list_terminals_within_radius(x, x_y_terminals=x_y_terminals, r=50), axis=1)\n",
        "customer_profiles_table"
      ],
      "execution_count": 11,
      "outputs": [
        {
          "output_type": "execute_result",
          "data": {
            "text/html": [
              "<div>\n",
              "<style scoped>\n",
              "    .dataframe tbody tr th:only-of-type {\n",
              "        vertical-align: middle;\n",
              "    }\n",
              "\n",
              "    .dataframe tbody tr th {\n",
              "        vertical-align: top;\n",
              "    }\n",
              "\n",
              "    .dataframe thead th {\n",
              "        text-align: right;\n",
              "    }\n",
              "</style>\n",
              "<table border=\"1\" class=\"dataframe\">\n",
              "  <thead>\n",
              "    <tr style=\"text-align: right;\">\n",
              "      <th></th>\n",
              "      <th>CUSTOMER_ID</th>\n",
              "      <th>x_customer_id</th>\n",
              "      <th>y_customer_id</th>\n",
              "      <th>mean_amount</th>\n",
              "      <th>std_amount</th>\n",
              "      <th>mean_nb_tx_per_day</th>\n",
              "      <th>available_terminals</th>\n",
              "    </tr>\n",
              "  </thead>\n",
              "  <tbody>\n",
              "    <tr>\n",
              "      <th>0</th>\n",
              "      <td>0</td>\n",
              "      <td>54.881350</td>\n",
              "      <td>71.518937</td>\n",
              "      <td>62.262521</td>\n",
              "      <td>31.131260</td>\n",
              "      <td>2.179533</td>\n",
              "      <td>[0, 1, 2, 3]</td>\n",
              "    </tr>\n",
              "    <tr>\n",
              "      <th>1</th>\n",
              "      <td>1</td>\n",
              "      <td>42.365480</td>\n",
              "      <td>64.589411</td>\n",
              "      <td>46.570785</td>\n",
              "      <td>23.285393</td>\n",
              "      <td>3.567092</td>\n",
              "      <td>[0, 1, 2, 3]</td>\n",
              "    </tr>\n",
              "    <tr>\n",
              "      <th>2</th>\n",
              "      <td>2</td>\n",
              "      <td>96.366276</td>\n",
              "      <td>38.344152</td>\n",
              "      <td>80.213879</td>\n",
              "      <td>40.106939</td>\n",
              "      <td>2.115580</td>\n",
              "      <td>[1, 4]</td>\n",
              "    </tr>\n",
              "    <tr>\n",
              "      <th>3</th>\n",
              "      <td>3</td>\n",
              "      <td>56.804456</td>\n",
              "      <td>92.559664</td>\n",
              "      <td>11.748426</td>\n",
              "      <td>5.874213</td>\n",
              "      <td>0.348517</td>\n",
              "      <td>[0, 1, 2, 3]</td>\n",
              "    </tr>\n",
              "    <tr>\n",
              "      <th>4</th>\n",
              "      <td>4</td>\n",
              "      <td>2.021840</td>\n",
              "      <td>83.261985</td>\n",
              "      <td>78.924891</td>\n",
              "      <td>39.462446</td>\n",
              "      <td>3.480049</td>\n",
              "      <td>[2, 3]</td>\n",
              "    </tr>\n",
              "  </tbody>\n",
              "</table>\n",
              "</div>"
            ],
            "text/plain": [
              "   CUSTOMER_ID  x_customer_id  ...  mean_nb_tx_per_day  available_terminals\n",
              "0            0      54.881350  ...            2.179533         [0, 1, 2, 3]\n",
              "1            1      42.365480  ...            3.567092         [0, 1, 2, 3]\n",
              "2            2      96.366276  ...            2.115580               [1, 4]\n",
              "3            3      56.804456  ...            0.348517         [0, 1, 2, 3]\n",
              "4            4       2.021840  ...            3.480049               [2, 3]\n",
              "\n",
              "[5 rows x 7 columns]"
            ]
          },
          "metadata": {},
          "execution_count": 11
        }
      ]
    },
    {
      "cell_type": "markdown",
      "metadata": {
        "id": "114bfmlzo8EX"
      },
      "source": [
        "It is worth noting that the radius $r$ controls the number of terminals that will be on average available for each customer. As the number of terminals is increased, this radius should be adapted to match the average number of available terminals per customer that is desired in a simulation.  "
      ]
    },
    {
      "cell_type": "markdown",
      "metadata": {
        "id": "u_yVz3nro8EY"
      },
      "source": [
        "## Generation of transactions\n",
        "\n",
        "The customer profiles now contain all the information that we require to generate transactions. The transaction generation will be done by a function `generate_transactions_table` that takes as input a customer profile, a starting date, and a number of days for which to generate transactions. It will return a table of transactions, which follows the format presented above (**without the transaction label**, which will be **added in** **Fraud_Scenarios_Generation**.\n"
      ]
    },
    {
      "cell_type": "code",
      "metadata": {
        "tags": [
          "hide-cell"
        ],
        "id": "WwVdqccVo8EY"
      },
      "source": [
        "def generate_transactions_table(customer_profile, start_date = \"2021-04-01\", nb_days = 10):\n",
        "    \n",
        "    customer_transactions = []\n",
        "    \n",
        "    random.seed(customer_profile.CUSTOMER_ID)\n",
        "    np.random.seed(customer_profile.CUSTOMER_ID)\n",
        "    \n",
        "    # For all days\n",
        "    for day in range(nb_days):\n",
        "        \n",
        "        # Random number of transactions for that day \n",
        "        nb_tx = np.random.poisson(customer_profile.mean_nb_tx_per_day)\n",
        "        \n",
        "        # If nb_tx positive, let us generate transactions\n",
        "        if nb_tx>0:\n",
        "            \n",
        "            for tx in range(nb_tx):\n",
        "                \n",
        "                # Time of transaction: Around noon, std 20000 seconds. This choice aims at simulating the fact that \n",
        "                # most transactions occur during the day.\n",
        "                time_tx = int(np.random.normal(86400/2, 20000))\n",
        "                \n",
        "                # If transaction time between 0 and 86400, let us keep it, otherwise, let us discard it\n",
        "                if (time_tx>0) and (time_tx<86400):\n",
        "                    \n",
        "                    # Amount is drawn from a normal distribution  \n",
        "                    amount = np.random.normal(customer_profile.mean_amount, customer_profile.std_amount)\n",
        "                    \n",
        "                    # If amount negative, draw from a uniform distribution\n",
        "                    if amount<0:\n",
        "                        amount = np.random.uniform(0,customer_profile.mean_amount*2)\n",
        "                    \n",
        "                    amount=np.round(amount,decimals=2)\n",
        "                    \n",
        "                    if len(customer_profile.available_terminals)>0:\n",
        "                        \n",
        "                        terminal_id = random.choice(customer_profile.available_terminals)\n",
        "                    \n",
        "                        customer_transactions.append([time_tx+day*86400, day,\n",
        "                                                      customer_profile.CUSTOMER_ID, \n",
        "                                                      terminal_id, amount])\n",
        "            \n",
        "    customer_transactions = pd.DataFrame(customer_transactions, columns=['TX_TIME_SECONDS', 'TX_TIME_DAYS', 'CUSTOMER_ID', 'TERMINAL_ID', 'TX_AMOUNT'])\n",
        "    \n",
        "    if len(customer_transactions)>0:\n",
        "        customer_transactions['TX_DATETIME'] = pd.to_datetime(customer_transactions[\"TX_TIME_SECONDS\"], unit='s', origin=start_date)\n",
        "        customer_transactions=customer_transactions[['TX_DATETIME','CUSTOMER_ID', 'TERMINAL_ID', 'TX_AMOUNT','TX_TIME_SECONDS', 'TX_TIME_DAYS']]\n",
        "    \n",
        "    return customer_transactions  \n",
        "    \n",
        "    "
      ],
      "execution_count": 12,
      "outputs": []
    },
    {
      "cell_type": "markdown",
      "metadata": {
        "id": "vgnMCqF7o8EY"
      },
      "source": [
        "Let us for example generate transactions for the first customer, for five days, starting at the date 2021-04-01:"
      ]
    },
    {
      "cell_type": "code",
      "metadata": {
        "colab": {
          "base_uri": "https://localhost:8080/",
          "height": 581
        },
        "id": "HMVRr3kSo8EZ",
        "outputId": "71823977-9417-4cac-c450-8a94d098b4dd"
      },
      "source": [
        "transaction_table_customer_0=generate_transactions_table(customer_profiles_table.iloc[0], \n",
        "                                                         start_date = \"2021-04-01\", \n",
        "                                                         nb_days = 5)\n",
        "transaction_table_customer_0"
      ],
      "execution_count": 13,
      "outputs": [
        {
          "output_type": "execute_result",
          "data": {
            "text/html": [
              "<div>\n",
              "<style scoped>\n",
              "    .dataframe tbody tr th:only-of-type {\n",
              "        vertical-align: middle;\n",
              "    }\n",
              "\n",
              "    .dataframe tbody tr th {\n",
              "        vertical-align: top;\n",
              "    }\n",
              "\n",
              "    .dataframe thead th {\n",
              "        text-align: right;\n",
              "    }\n",
              "</style>\n",
              "<table border=\"1\" class=\"dataframe\">\n",
              "  <thead>\n",
              "    <tr style=\"text-align: right;\">\n",
              "      <th></th>\n",
              "      <th>TX_DATETIME</th>\n",
              "      <th>CUSTOMER_ID</th>\n",
              "      <th>TERMINAL_ID</th>\n",
              "      <th>TX_AMOUNT</th>\n",
              "      <th>TX_TIME_SECONDS</th>\n",
              "      <th>TX_TIME_DAYS</th>\n",
              "    </tr>\n",
              "  </thead>\n",
              "  <tbody>\n",
              "    <tr>\n",
              "      <th>0</th>\n",
              "      <td>2021-04-01 07:19:05</td>\n",
              "      <td>0</td>\n",
              "      <td>3</td>\n",
              "      <td>123.59</td>\n",
              "      <td>26345</td>\n",
              "      <td>0</td>\n",
              "    </tr>\n",
              "    <tr>\n",
              "      <th>1</th>\n",
              "      <td>2021-04-01 19:02:02</td>\n",
              "      <td>0</td>\n",
              "      <td>3</td>\n",
              "      <td>46.51</td>\n",
              "      <td>68522</td>\n",
              "      <td>0</td>\n",
              "    </tr>\n",
              "    <tr>\n",
              "      <th>2</th>\n",
              "      <td>2021-04-01 18:00:16</td>\n",
              "      <td>0</td>\n",
              "      <td>0</td>\n",
              "      <td>77.34</td>\n",
              "      <td>64816</td>\n",
              "      <td>0</td>\n",
              "    </tr>\n",
              "    <tr>\n",
              "      <th>3</th>\n",
              "      <td>2021-04-02 15:13:02</td>\n",
              "      <td>0</td>\n",
              "      <td>2</td>\n",
              "      <td>32.35</td>\n",
              "      <td>141182</td>\n",
              "      <td>1</td>\n",
              "    </tr>\n",
              "    <tr>\n",
              "      <th>4</th>\n",
              "      <td>2021-04-02 14:05:38</td>\n",
              "      <td>0</td>\n",
              "      <td>3</td>\n",
              "      <td>63.30</td>\n",
              "      <td>137138</td>\n",
              "      <td>1</td>\n",
              "    </tr>\n",
              "    <tr>\n",
              "      <th>5</th>\n",
              "      <td>2021-04-02 15:46:51</td>\n",
              "      <td>0</td>\n",
              "      <td>3</td>\n",
              "      <td>13.59</td>\n",
              "      <td>143211</td>\n",
              "      <td>1</td>\n",
              "    </tr>\n",
              "    <tr>\n",
              "      <th>6</th>\n",
              "      <td>2021-04-02 08:51:06</td>\n",
              "      <td>0</td>\n",
              "      <td>2</td>\n",
              "      <td>54.72</td>\n",
              "      <td>118266</td>\n",
              "      <td>1</td>\n",
              "    </tr>\n",
              "    <tr>\n",
              "      <th>7</th>\n",
              "      <td>2021-04-02 20:24:47</td>\n",
              "      <td>0</td>\n",
              "      <td>3</td>\n",
              "      <td>51.89</td>\n",
              "      <td>159887</td>\n",
              "      <td>1</td>\n",
              "    </tr>\n",
              "    <tr>\n",
              "      <th>8</th>\n",
              "      <td>2021-04-03 12:15:47</td>\n",
              "      <td>0</td>\n",
              "      <td>2</td>\n",
              "      <td>117.91</td>\n",
              "      <td>216947</td>\n",
              "      <td>2</td>\n",
              "    </tr>\n",
              "    <tr>\n",
              "      <th>9</th>\n",
              "      <td>2021-04-03 08:50:09</td>\n",
              "      <td>0</td>\n",
              "      <td>1</td>\n",
              "      <td>67.72</td>\n",
              "      <td>204609</td>\n",
              "      <td>2</td>\n",
              "    </tr>\n",
              "    <tr>\n",
              "      <th>10</th>\n",
              "      <td>2021-04-03 09:25:49</td>\n",
              "      <td>0</td>\n",
              "      <td>1</td>\n",
              "      <td>28.46</td>\n",
              "      <td>206749</td>\n",
              "      <td>2</td>\n",
              "    </tr>\n",
              "    <tr>\n",
              "      <th>11</th>\n",
              "      <td>2021-04-03 15:33:14</td>\n",
              "      <td>0</td>\n",
              "      <td>2</td>\n",
              "      <td>50.25</td>\n",
              "      <td>228794</td>\n",
              "      <td>2</td>\n",
              "    </tr>\n",
              "    <tr>\n",
              "      <th>12</th>\n",
              "      <td>2021-04-03 07:41:24</td>\n",
              "      <td>0</td>\n",
              "      <td>1</td>\n",
              "      <td>93.26</td>\n",
              "      <td>200484</td>\n",
              "      <td>2</td>\n",
              "    </tr>\n",
              "    <tr>\n",
              "      <th>13</th>\n",
              "      <td>2021-04-04 01:15:35</td>\n",
              "      <td>0</td>\n",
              "      <td>0</td>\n",
              "      <td>46.40</td>\n",
              "      <td>263735</td>\n",
              "      <td>3</td>\n",
              "    </tr>\n",
              "    <tr>\n",
              "      <th>14</th>\n",
              "      <td>2021-04-04 09:33:58</td>\n",
              "      <td>0</td>\n",
              "      <td>2</td>\n",
              "      <td>23.26</td>\n",
              "      <td>293638</td>\n",
              "      <td>3</td>\n",
              "    </tr>\n",
              "    <tr>\n",
              "      <th>15</th>\n",
              "      <td>2021-04-05 16:19:09</td>\n",
              "      <td>0</td>\n",
              "      <td>1</td>\n",
              "      <td>71.96</td>\n",
              "      <td>404349</td>\n",
              "      <td>4</td>\n",
              "    </tr>\n",
              "    <tr>\n",
              "      <th>16</th>\n",
              "      <td>2021-04-05 07:41:19</td>\n",
              "      <td>0</td>\n",
              "      <td>2</td>\n",
              "      <td>52.69</td>\n",
              "      <td>373279</td>\n",
              "      <td>4</td>\n",
              "    </tr>\n",
              "  </tbody>\n",
              "</table>\n",
              "</div>"
            ],
            "text/plain": [
              "           TX_DATETIME  CUSTOMER_ID  ...  TX_TIME_SECONDS  TX_TIME_DAYS\n",
              "0  2021-04-01 07:19:05            0  ...            26345             0\n",
              "1  2021-04-01 19:02:02            0  ...            68522             0\n",
              "2  2021-04-01 18:00:16            0  ...            64816             0\n",
              "3  2021-04-02 15:13:02            0  ...           141182             1\n",
              "4  2021-04-02 14:05:38            0  ...           137138             1\n",
              "5  2021-04-02 15:46:51            0  ...           143211             1\n",
              "6  2021-04-02 08:51:06            0  ...           118266             1\n",
              "7  2021-04-02 20:24:47            0  ...           159887             1\n",
              "8  2021-04-03 12:15:47            0  ...           216947             2\n",
              "9  2021-04-03 08:50:09            0  ...           204609             2\n",
              "10 2021-04-03 09:25:49            0  ...           206749             2\n",
              "11 2021-04-03 15:33:14            0  ...           228794             2\n",
              "12 2021-04-03 07:41:24            0  ...           200484             2\n",
              "13 2021-04-04 01:15:35            0  ...           263735             3\n",
              "14 2021-04-04 09:33:58            0  ...           293638             3\n",
              "15 2021-04-05 16:19:09            0  ...           404349             4\n",
              "16 2021-04-05 07:41:19            0  ...           373279             4\n",
              "\n",
              "[17 rows x 6 columns]"
            ]
          },
          "metadata": {},
          "execution_count": 13
        }
      ]
    },
    {
      "cell_type": "markdown",
      "metadata": {
        "id": "QSvX5IwZo8Ea"
      },
      "source": [
        "We can make a quick check that the generated transactions follow the customer profile properties:\n",
        "\n",
        "* The terminal IDs are indeed those in the list of available terminals (0, 1, 2 and 3)\n",
        "* The transaction amounts seem to follow the amount parameters of the customer (`mean_amount`=62.26 and\t`std_amount`=31.13)\n",
        "* The number of transactions per day varies according to the transaction frequency parameters of the customer (`mean_nb_tx_per_day`=2.18).  \n"
      ]
    },
    {
      "cell_type": "code",
      "metadata": {
        "colab": {
          "base_uri": "https://localhost:8080/"
        },
        "id": "ODEKeJ5eo8Ea",
        "outputId": "fe04d188-1202-4794-e9f0-48fc8ade0a82"
      },
      "source": [
        "customer_profiles_table.iloc[0]"
      ],
      "execution_count": 14,
      "outputs": [
        {
          "output_type": "execute_result",
          "data": {
            "text/plain": [
              "CUSTOMER_ID                       0\n",
              "x_customer_id               54.8814\n",
              "y_customer_id               71.5189\n",
              "mean_amount                 62.2625\n",
              "std_amount                  31.1313\n",
              "mean_nb_tx_per_day          2.17953\n",
              "available_terminals    [0, 1, 2, 3]\n",
              "Name: 0, dtype: object"
            ]
          },
          "metadata": {},
          "execution_count": 14
        }
      ]
    },
    {
      "cell_type": "markdown",
      "metadata": {
        "id": "4P8YBpkNo8Ea"
      },
      "source": [
        "Let us now generate the transactions for all customers. This is straightforward using the pandas `groupby` and `apply` methods:"
      ]
    },
    {
      "cell_type": "code",
      "metadata": {
        "colab": {
          "base_uri": "https://localhost:8080/",
          "height": 422
        },
        "id": "rKKOa-X3o8Eb",
        "outputId": "aade9250-d753-454e-ac5f-8ff0af88d15e"
      },
      "source": [
        "transactions_df=customer_profiles_table.groupby('CUSTOMER_ID').apply(lambda x : generate_transactions_table(x.iloc[0], nb_days=5)).reset_index(drop=True)\n",
        "transactions_df"
      ],
      "execution_count": 15,
      "outputs": [
        {
          "output_type": "execute_result",
          "data": {
            "text/html": [
              "<div>\n",
              "<style scoped>\n",
              "    .dataframe tbody tr th:only-of-type {\n",
              "        vertical-align: middle;\n",
              "    }\n",
              "\n",
              "    .dataframe tbody tr th {\n",
              "        vertical-align: top;\n",
              "    }\n",
              "\n",
              "    .dataframe thead th {\n",
              "        text-align: right;\n",
              "    }\n",
              "</style>\n",
              "<table border=\"1\" class=\"dataframe\">\n",
              "  <thead>\n",
              "    <tr style=\"text-align: right;\">\n",
              "      <th></th>\n",
              "      <th>TX_DATETIME</th>\n",
              "      <th>CUSTOMER_ID</th>\n",
              "      <th>TERMINAL_ID</th>\n",
              "      <th>TX_AMOUNT</th>\n",
              "      <th>TX_TIME_SECONDS</th>\n",
              "      <th>TX_TIME_DAYS</th>\n",
              "    </tr>\n",
              "  </thead>\n",
              "  <tbody>\n",
              "    <tr>\n",
              "      <th>0</th>\n",
              "      <td>2021-04-01 07:19:05</td>\n",
              "      <td>0</td>\n",
              "      <td>3</td>\n",
              "      <td>123.59</td>\n",
              "      <td>26345</td>\n",
              "      <td>0</td>\n",
              "    </tr>\n",
              "    <tr>\n",
              "      <th>1</th>\n",
              "      <td>2021-04-01 19:02:02</td>\n",
              "      <td>0</td>\n",
              "      <td>3</td>\n",
              "      <td>46.51</td>\n",
              "      <td>68522</td>\n",
              "      <td>0</td>\n",
              "    </tr>\n",
              "    <tr>\n",
              "      <th>2</th>\n",
              "      <td>2021-04-01 18:00:16</td>\n",
              "      <td>0</td>\n",
              "      <td>0</td>\n",
              "      <td>77.34</td>\n",
              "      <td>64816</td>\n",
              "      <td>0</td>\n",
              "    </tr>\n",
              "    <tr>\n",
              "      <th>3</th>\n",
              "      <td>2021-04-02 15:13:02</td>\n",
              "      <td>0</td>\n",
              "      <td>2</td>\n",
              "      <td>32.35</td>\n",
              "      <td>141182</td>\n",
              "      <td>1</td>\n",
              "    </tr>\n",
              "    <tr>\n",
              "      <th>4</th>\n",
              "      <td>2021-04-02 14:05:38</td>\n",
              "      <td>0</td>\n",
              "      <td>3</td>\n",
              "      <td>63.30</td>\n",
              "      <td>137138</td>\n",
              "      <td>1</td>\n",
              "    </tr>\n",
              "    <tr>\n",
              "      <th>...</th>\n",
              "      <td>...</td>\n",
              "      <td>...</td>\n",
              "      <td>...</td>\n",
              "      <td>...</td>\n",
              "      <td>...</td>\n",
              "      <td>...</td>\n",
              "    </tr>\n",
              "    <tr>\n",
              "      <th>60</th>\n",
              "      <td>2021-04-05 07:41:19</td>\n",
              "      <td>4</td>\n",
              "      <td>2</td>\n",
              "      <td>111.38</td>\n",
              "      <td>373279</td>\n",
              "      <td>4</td>\n",
              "    </tr>\n",
              "    <tr>\n",
              "      <th>61</th>\n",
              "      <td>2021-04-05 06:59:59</td>\n",
              "      <td>4</td>\n",
              "      <td>3</td>\n",
              "      <td>80.36</td>\n",
              "      <td>370799</td>\n",
              "      <td>4</td>\n",
              "    </tr>\n",
              "    <tr>\n",
              "      <th>62</th>\n",
              "      <td>2021-04-05 17:23:34</td>\n",
              "      <td>4</td>\n",
              "      <td>2</td>\n",
              "      <td>53.25</td>\n",
              "      <td>408214</td>\n",
              "      <td>4</td>\n",
              "    </tr>\n",
              "    <tr>\n",
              "      <th>63</th>\n",
              "      <td>2021-04-05 12:51:38</td>\n",
              "      <td>4</td>\n",
              "      <td>2</td>\n",
              "      <td>36.44</td>\n",
              "      <td>391898</td>\n",
              "      <td>4</td>\n",
              "    </tr>\n",
              "    <tr>\n",
              "      <th>64</th>\n",
              "      <td>2021-04-05 12:38:46</td>\n",
              "      <td>4</td>\n",
              "      <td>3</td>\n",
              "      <td>17.53</td>\n",
              "      <td>391126</td>\n",
              "      <td>4</td>\n",
              "    </tr>\n",
              "  </tbody>\n",
              "</table>\n",
              "<p>65 rows × 6 columns</p>\n",
              "</div>"
            ],
            "text/plain": [
              "           TX_DATETIME  CUSTOMER_ID  ...  TX_TIME_SECONDS  TX_TIME_DAYS\n",
              "0  2021-04-01 07:19:05            0  ...            26345             0\n",
              "1  2021-04-01 19:02:02            0  ...            68522             0\n",
              "2  2021-04-01 18:00:16            0  ...            64816             0\n",
              "3  2021-04-02 15:13:02            0  ...           141182             1\n",
              "4  2021-04-02 14:05:38            0  ...           137138             1\n",
              "..                 ...          ...  ...              ...           ...\n",
              "60 2021-04-05 07:41:19            4  ...           373279             4\n",
              "61 2021-04-05 06:59:59            4  ...           370799             4\n",
              "62 2021-04-05 17:23:34            4  ...           408214             4\n",
              "63 2021-04-05 12:51:38            4  ...           391898             4\n",
              "64 2021-04-05 12:38:46            4  ...           391126             4\n",
              "\n",
              "[65 rows x 6 columns]"
            ]
          },
          "metadata": {},
          "execution_count": 15
        }
      ]
    },
    {
      "cell_type": "markdown",
      "metadata": {
        "id": "NP_4zP4Eo8Ec"
      },
      "source": [
        "This gives us a set of 65 transactions, with 5 customers, 5 terminals, and 5 days."
      ]
    },
    {
      "cell_type": "markdown",
      "metadata": {
        "id": "5Mz53dHVo8Ed"
      },
      "source": [
        "<h3> Scaling up to a larger dataset</h3>\n",
        "\n",
        "We now have all the building blocks to generate a larger dataset. Let us write a `generate_dataset` function, that will take care of running all the previous steps. It will \n",
        "\n",
        "* take as inputs the number of desired customers, terminals and days, as well as the starting date and the radius `r`\n",
        "* return the generated customer and terminal profiles table, and the DataFrame of transactions."
      ]
    },
    {
      "cell_type": "code",
      "metadata": {
        "tags": [
          "hide-cell"
        ],
        "id": "oq4WNjbjo8Ed"
      },
      "source": [
        "def generate_dataset(n_customers = 10000, n_terminals = 1000000, nb_days=90, start_date=\"2021-04-01\", r=5):\n",
        "    \n",
        "    start_time=time.time()\n",
        "    customer_profiles_table = generate_customer_profiles_table(n_customers, random_state = 0)\n",
        "    print(\"Time to generate customer profiles table: {0:.2}s\".format(time.time()-start_time))\n",
        "    \n",
        "    start_time=time.time()\n",
        "    terminal_profiles_table = generate_terminal_profiles_table(n_terminals, random_state = 1)\n",
        "    print(\"Time to generate terminal profiles table: {0:.2}s\".format(time.time()-start_time))\n",
        "    \n",
        "    start_time=time.time()\n",
        "    x_y_terminals = terminal_profiles_table[['x_terminal_id','y_terminal_id']].values.astype(float)\n",
        "    customer_profiles_table['available_terminals'] = customer_profiles_table.apply(lambda x : get_list_terminals_within_radius(x, x_y_terminals=x_y_terminals, r=r), axis=1)\n",
        "    # With Pandarallel\n",
        "    #customer_profiles_table['available_terminals'] = customer_profiles_table.parallel_apply(lambda x : get_list_closest_terminals(x, x_y_terminals=x_y_terminals, r=r), axis=1)\n",
        "    customer_profiles_table['nb_terminals']=customer_profiles_table.available_terminals.apply(len)\n",
        "    print(\"Time to associate terminals to customers: {0:.2}s\".format(time.time()-start_time))\n",
        "    \n",
        "    start_time=time.time()\n",
        "    transactions_df=customer_profiles_table.groupby('CUSTOMER_ID').apply(lambda x : generate_transactions_table(x.iloc[0], nb_days=nb_days)).reset_index(drop=True)\n",
        "    # With Pandarallel\n",
        "    #transactions_df=customer_profiles_table.groupby('CUSTOMER_ID').parallel_apply(lambda x : generate_transactions_table(x.iloc[0], nb_days=nb_days)).reset_index(drop=True)\n",
        "    print(\"Time to generate transactions: {0:.2}s\".format(time.time()-start_time))\n",
        "    \n",
        "    # Sort transactions chronologically\n",
        "    transactions_df=transactions_df.sort_values('TX_DATETIME')\n",
        "    # Reset indices, starting from 0\n",
        "    transactions_df.reset_index(inplace=True,drop=True)\n",
        "    transactions_df.reset_index(inplace=True)\n",
        "    # TRANSACTION_ID are the dataframe indices, starting from 0\n",
        "    transactions_df.rename(columns = {'index':'TRANSACTION_ID'}, inplace = True)\n",
        "    \n",
        "    return (customer_profiles_table, terminal_profiles_table, transactions_df)\n",
        "    "
      ],
      "execution_count": 16,
      "outputs": []
    },
    {
      "cell_type": "markdown",
      "metadata": {
        "id": "2ghx5i2uo8Ee"
      },
      "source": [
        "Let us generate a dataset that features \n",
        "\n",
        "* 5000 customers\n",
        "* 10000 terminals\n",
        "* 183 days of transactions (which corresponds to a simulated period from 2021/04/01 to 2021/09/30)\n",
        "\n",
        "The starting date is arbitrarily fixed at 2021/04/01. The radius $r$ is set to 5, which corresponds to around 100 available terminals for each customer.\n",
        "\n",
        "It takes around 3 minutes to generate this dataset on a standard laptop."
      ]
    },
    {
      "cell_type": "code",
      "metadata": {
        "colab": {
          "base_uri": "https://localhost:8080/"
        },
        "id": "WL9oFAb9o8Ef",
        "outputId": "73484c88-e0de-411e-8bcf-7c1b0ac0d08f"
      },
      "source": [
        "(customer_profiles_table, terminal_profiles_table, transactions_df)=\\\n",
        "    generate_dataset(n_customers = 5000, \n",
        "                     n_terminals = 10000, \n",
        "                     nb_days=183, \n",
        "                     start_date=\"2021-04-01\", \n",
        "                     r=5)\n"
      ],
      "execution_count": 17,
      "outputs": [
        {
          "output_type": "stream",
          "name": "stdout",
          "text": [
            "Time to generate customer profiles table: 0.075s\n",
            "Time to generate terminal profiles table: 0.066s\n",
            "Time to associate terminals to customers: 3.9s\n",
            "Time to generate transactions: 1.9e+02s\n"
          ]
        }
      ]
    },
    {
      "cell_type": "markdown",
      "metadata": {
        "id": "tZyd6H6fo8Ef"
      },
      "source": [
        "A total of 1754155 transactions were generated. "
      ]
    },
    {
      "cell_type": "code",
      "metadata": {
        "colab": {
          "base_uri": "https://localhost:8080/"
        },
        "id": "cVdO7zuQo8Ej",
        "outputId": "48c68645-52ad-421d-8f23-49f07becfc14"
      },
      "source": [
        "transactions_df.shape"
      ],
      "execution_count": 18,
      "outputs": [
        {
          "output_type": "execute_result",
          "data": {
            "text/plain": [
              "(1754155, 7)"
            ]
          },
          "metadata": {},
          "execution_count": 18
        }
      ]
    },
    {
      "cell_type": "markdown",
      "metadata": {
        "id": "7YsIREryo8Ek"
      },
      "source": [
        "Note that this number is low compared to real-world fraud detection systems, where millions of transactions may need to be processed every day. This will however be enough for the purpose of this book, in particular to keep reasonable executions times."
      ]
    },
    {
      "cell_type": "code",
      "metadata": {
        "colab": {
          "base_uri": "https://localhost:8080/",
          "height": 422
        },
        "id": "ILKiGwj-o8Ek",
        "outputId": "63857d0c-1642-42d9-b5f6-be229f6c7f74"
      },
      "source": [
        "transactions_df"
      ],
      "execution_count": 19,
      "outputs": [
        {
          "output_type": "execute_result",
          "data": {
            "text/html": [
              "<div>\n",
              "<style scoped>\n",
              "    .dataframe tbody tr th:only-of-type {\n",
              "        vertical-align: middle;\n",
              "    }\n",
              "\n",
              "    .dataframe tbody tr th {\n",
              "        vertical-align: top;\n",
              "    }\n",
              "\n",
              "    .dataframe thead th {\n",
              "        text-align: right;\n",
              "    }\n",
              "</style>\n",
              "<table border=\"1\" class=\"dataframe\">\n",
              "  <thead>\n",
              "    <tr style=\"text-align: right;\">\n",
              "      <th></th>\n",
              "      <th>TRANSACTION_ID</th>\n",
              "      <th>TX_DATETIME</th>\n",
              "      <th>CUSTOMER_ID</th>\n",
              "      <th>TERMINAL_ID</th>\n",
              "      <th>TX_AMOUNT</th>\n",
              "      <th>TX_TIME_SECONDS</th>\n",
              "      <th>TX_TIME_DAYS</th>\n",
              "    </tr>\n",
              "  </thead>\n",
              "  <tbody>\n",
              "    <tr>\n",
              "      <th>0</th>\n",
              "      <td>0</td>\n",
              "      <td>2021-04-01 00:00:31</td>\n",
              "      <td>596</td>\n",
              "      <td>3156</td>\n",
              "      <td>57.16</td>\n",
              "      <td>31</td>\n",
              "      <td>0</td>\n",
              "    </tr>\n",
              "    <tr>\n",
              "      <th>1</th>\n",
              "      <td>1</td>\n",
              "      <td>2021-04-01 00:02:10</td>\n",
              "      <td>4961</td>\n",
              "      <td>3412</td>\n",
              "      <td>81.51</td>\n",
              "      <td>130</td>\n",
              "      <td>0</td>\n",
              "    </tr>\n",
              "    <tr>\n",
              "      <th>2</th>\n",
              "      <td>2</td>\n",
              "      <td>2021-04-01 00:07:56</td>\n",
              "      <td>2</td>\n",
              "      <td>1365</td>\n",
              "      <td>146.00</td>\n",
              "      <td>476</td>\n",
              "      <td>0</td>\n",
              "    </tr>\n",
              "    <tr>\n",
              "      <th>3</th>\n",
              "      <td>3</td>\n",
              "      <td>2021-04-01 00:09:29</td>\n",
              "      <td>4128</td>\n",
              "      <td>8737</td>\n",
              "      <td>64.49</td>\n",
              "      <td>569</td>\n",
              "      <td>0</td>\n",
              "    </tr>\n",
              "    <tr>\n",
              "      <th>4</th>\n",
              "      <td>4</td>\n",
              "      <td>2021-04-01 00:10:34</td>\n",
              "      <td>927</td>\n",
              "      <td>9906</td>\n",
              "      <td>50.99</td>\n",
              "      <td>634</td>\n",
              "      <td>0</td>\n",
              "    </tr>\n",
              "    <tr>\n",
              "      <th>...</th>\n",
              "      <td>...</td>\n",
              "      <td>...</td>\n",
              "      <td>...</td>\n",
              "      <td>...</td>\n",
              "      <td>...</td>\n",
              "      <td>...</td>\n",
              "      <td>...</td>\n",
              "    </tr>\n",
              "    <tr>\n",
              "      <th>1754150</th>\n",
              "      <td>1754150</td>\n",
              "      <td>2021-09-30 23:56:36</td>\n",
              "      <td>161</td>\n",
              "      <td>655</td>\n",
              "      <td>54.24</td>\n",
              "      <td>15810996</td>\n",
              "      <td>182</td>\n",
              "    </tr>\n",
              "    <tr>\n",
              "      <th>1754151</th>\n",
              "      <td>1754151</td>\n",
              "      <td>2021-09-30 23:57:38</td>\n",
              "      <td>4342</td>\n",
              "      <td>6181</td>\n",
              "      <td>1.23</td>\n",
              "      <td>15811058</td>\n",
              "      <td>182</td>\n",
              "    </tr>\n",
              "    <tr>\n",
              "      <th>1754152</th>\n",
              "      <td>1754152</td>\n",
              "      <td>2021-09-30 23:58:21</td>\n",
              "      <td>618</td>\n",
              "      <td>1502</td>\n",
              "      <td>6.62</td>\n",
              "      <td>15811101</td>\n",
              "      <td>182</td>\n",
              "    </tr>\n",
              "    <tr>\n",
              "      <th>1754153</th>\n",
              "      <td>1754153</td>\n",
              "      <td>2021-09-30 23:59:52</td>\n",
              "      <td>4056</td>\n",
              "      <td>3067</td>\n",
              "      <td>55.40</td>\n",
              "      <td>15811192</td>\n",
              "      <td>182</td>\n",
              "    </tr>\n",
              "    <tr>\n",
              "      <th>1754154</th>\n",
              "      <td>1754154</td>\n",
              "      <td>2021-09-30 23:59:57</td>\n",
              "      <td>3542</td>\n",
              "      <td>9849</td>\n",
              "      <td>23.59</td>\n",
              "      <td>15811197</td>\n",
              "      <td>182</td>\n",
              "    </tr>\n",
              "  </tbody>\n",
              "</table>\n",
              "<p>1754155 rows × 7 columns</p>\n",
              "</div>"
            ],
            "text/plain": [
              "         TRANSACTION_ID         TX_DATETIME  ... TX_TIME_SECONDS TX_TIME_DAYS\n",
              "0                     0 2021-04-01 00:00:31  ...              31            0\n",
              "1                     1 2021-04-01 00:02:10  ...             130            0\n",
              "2                     2 2021-04-01 00:07:56  ...             476            0\n",
              "3                     3 2021-04-01 00:09:29  ...             569            0\n",
              "4                     4 2021-04-01 00:10:34  ...             634            0\n",
              "...                 ...                 ...  ...             ...          ...\n",
              "1754150         1754150 2021-09-30 23:56:36  ...        15810996          182\n",
              "1754151         1754151 2021-09-30 23:57:38  ...        15811058          182\n",
              "1754152         1754152 2021-09-30 23:58:21  ...        15811101          182\n",
              "1754153         1754153 2021-09-30 23:59:52  ...        15811192          182\n",
              "1754154         1754154 2021-09-30 23:59:57  ...        15811197          182\n",
              "\n",
              "[1754155 rows x 7 columns]"
            ]
          },
          "metadata": {},
          "execution_count": 19
        }
      ]
    },
    {
      "cell_type": "markdown",
      "metadata": {
        "id": "j3zuAGfRo8Ek"
      },
      "source": [
        "As a sanity check, let us plot the distribution of transaction amounts and transaction times. "
      ]
    },
    {
      "cell_type": "code",
      "metadata": {
        "tags": [
          "hide-cell"
        ],
        "id": "d-CBj31go8El"
      },
      "source": [
        "%%capture\n",
        "\n",
        "distribution_amount_times_fig, ax = plt.subplots(1, 2, figsize=(18,4))\n",
        "\n",
        "amount_val = transactions_df[transactions_df.TX_TIME_DAYS<10]['TX_AMOUNT'].sample(n=10000).values\n",
        "time_val = transactions_df[transactions_df.TX_TIME_DAYS<10]['TX_TIME_SECONDS'].sample(n=10000).values\n",
        "\n",
        "sns.distplot(amount_val, ax=ax[0], color='r', hist = True, kde = False)\n",
        "ax[0].set_title('Distribution of transaction amounts', fontsize=14)\n",
        "ax[0].set_xlim([min(amount_val), max(amount_val)])\n",
        "ax[0].set(xlabel = \"Amount\", ylabel=\"Number of transactions\")\n",
        "\n",
        "# We divide the time variables by 86400 to transform seconds to days in the plot\n",
        "sns.distplot(time_val/86400, ax=ax[1], color='b', bins = 100, hist = True, kde = False)\n",
        "ax[1].set_title('Distribution of transaction times', fontsize=14)\n",
        "ax[1].set_xlim([min(time_val/86400), max(time_val/86400)])\n",
        "ax[1].set_xticks(range(10))\n",
        "ax[1].set(xlabel = \"Time (days)\", ylabel=\"Number of transactions\")\n"
      ],
      "execution_count": 20,
      "outputs": []
    },
    {
      "cell_type": "code",
      "metadata": {
        "colab": {
          "base_uri": "https://localhost:8080/",
          "height": 296
        },
        "id": "Ho0UwQBVo8El",
        "outputId": "100316e0-6554-4d8b-9726-f65b874ca963"
      },
      "source": [
        "distribution_amount_times_fig"
      ],
      "execution_count": 21,
      "outputs": [
        {
          "output_type": "execute_result",
          "data": {
            "image/png": "[encoded data removed]",
            "text/plain": [
              "<Figure size 1296x288 with 2 Axes>"
            ]
          },
          "metadata": {},
          "execution_count": 21
        }
      ]
    },
    {
      "cell_type": "markdown",
      "metadata": {
        "id": "Yuq4M2fuo8Em"
      },
      "source": [
        "The distribution of transaction amounts has most of its mass for small amounts. The distribution of transaction times  follows a gaussian distribution on a daily basis, centered around noon. These two distributions are in accordance with the simulation parameters used in the previous sections.  "
      ]
    },
    {
      "cell_type": "markdown",
      "metadata": {
        "id": "OtDyGnT7o8Em"
      },
      "source": [
        "## Fraud scenarios generation\n",
        "\n",
        "This last step of the simulation adds fraudulent transactions to the dataset, using the following fraud scenarios:\n",
        "\n",
        "* Scenario 1: Any transaction whose amount is more than 220 is a fraud. This scenario is not inspired by a real-world scenario. Rather, it will provide an obvious fraud pattern that should be detected by any baseline fraud detector. This will be useful to validate the implementation of a fraud detection technique.  \n",
        "\n",
        "* Scenario 2: Every day, a list of two terminals is drawn at random. All transactions on these terminals in the next 28 days will be marked as fraudulent. This scenario simulates a criminal use of a terminal, through phishing for example. Detecting this scenario will be possible by adding features that keep track of the number of fraudulent transactions on the terminal. Since the terminal is only compromised for 28 days, additional strategies that involve concept drift will need to be designed to efficiently deal with this scenario.     \n",
        "\n",
        "* Scenario 3: Every day, a list of 3 customers is drawn at random. In the next 14 days, 1/3 of their transactions have their amounts multiplied by 5 and marked as fraudulent. This scenario simulates a card-not-present fraud where the credentials of a customer have been leaked. The customer continues to make transactions, and transactions of higher values are made by the fraudster who tries to maximize their gains. Detecting this scenario will require adding features that keep track of the spending habits of the customer. As for scenario 2, since the card is only temporarily compromised, additional strategies that involve concept drift should also be designed. \n",
        "\n"
      ]
    },
    {
      "cell_type": "code",
      "metadata": {
        "tags": [
          "hide-cell"
        ],
        "id": "VgygTqV2o8Em"
      },
      "source": [
        "def add_frauds(customer_profiles_table, terminal_profiles_table, transactions_df):\n",
        "    \n",
        "    # By default, all transactions are genuine\n",
        "    transactions_df['TX_FRAUD']=0\n",
        "    transactions_df['TX_FRAUD_SCENARIO']=0\n",
        "    \n",
        "    # Scenario 1\n",
        "    transactions_df.loc[transactions_df.TX_AMOUNT>220, 'TX_FRAUD']=1\n",
        "    transactions_df.loc[transactions_df.TX_AMOUNT>220, 'TX_FRAUD_SCENARIO']=1\n",
        "    nb_frauds_scenario_1=transactions_df.TX_FRAUD.sum()\n",
        "    print(\"Number of frauds from scenario 1: \"+str(nb_frauds_scenario_1))\n",
        "    \n",
        "    # Scenario 2\n",
        "    for day in range(transactions_df.TX_TIME_DAYS.max()):\n",
        "        \n",
        "        compromised_terminals = terminal_profiles_table.TERMINAL_ID.sample(n=2, random_state=day)\n",
        "        \n",
        "        compromised_transactions=transactions_df[(transactions_df.TX_TIME_DAYS>=day) & \n",
        "                                                    (transactions_df.TX_TIME_DAYS<day+28) & \n",
        "                                                    (transactions_df.TERMINAL_ID.isin(compromised_terminals))]\n",
        "                            \n",
        "        transactions_df.loc[compromised_transactions.index,'TX_FRAUD']=1\n",
        "        transactions_df.loc[compromised_transactions.index,'TX_FRAUD_SCENARIO']=2\n",
        "    \n",
        "    nb_frauds_scenario_2=transactions_df.TX_FRAUD.sum()-nb_frauds_scenario_1\n",
        "    print(\"Number of frauds from scenario 2: \"+str(nb_frauds_scenario_2))\n",
        "    \n",
        "    # Scenario 3\n",
        "    for day in range(transactions_df.TX_TIME_DAYS.max()):\n",
        "        \n",
        "        compromised_customers = customer_profiles_table.CUSTOMER_ID.sample(n=3, random_state=day).values\n",
        "        \n",
        "        compromised_transactions=transactions_df[(transactions_df.TX_TIME_DAYS>=day) & \n",
        "                                                    (transactions_df.TX_TIME_DAYS<day+14) & \n",
        "                                                    (transactions_df.CUSTOMER_ID.isin(compromised_customers))]\n",
        "        \n",
        "        nb_compromised_transactions=len(compromised_transactions)\n",
        "        \n",
        "        \n",
        "        random.seed(day)\n",
        "        index_fauds = random.sample(list(compromised_transactions.index.values),k=int(nb_compromised_transactions/3))\n",
        "        \n",
        "        transactions_df.loc[index_fauds,'TX_AMOUNT']=transactions_df.loc[index_fauds,'TX_AMOUNT']*5\n",
        "        transactions_df.loc[index_fauds,'TX_FRAUD']=1\n",
        "        transactions_df.loc[index_fauds,'TX_FRAUD_SCENARIO']=3\n",
        "        \n",
        "                             \n",
        "    nb_frauds_scenario_3=transactions_df.TX_FRAUD.sum()-nb_frauds_scenario_2-nb_frauds_scenario_1\n",
        "    print(\"Number of frauds from scenario 3: \"+str(nb_frauds_scenario_3))\n",
        "    \n",
        "    return transactions_df                 \n",
        "\n"
      ],
      "execution_count": 22,
      "outputs": []
    },
    {
      "cell_type": "markdown",
      "metadata": {
        "id": "7R86HJTto8En"
      },
      "source": [
        "Let us add fraudulent transactions using these scenarios:"
      ]
    },
    {
      "cell_type": "code",
      "metadata": {
        "colab": {
          "base_uri": "https://localhost:8080/"
        },
        "id": "7tRixnoZo8En",
        "outputId": "ec2e4eea-1e4b-451b-9c67-cb1cf35a2fbc"
      },
      "source": [
        "%time transactions_df = add_frauds(customer_profiles_table, terminal_profiles_table, transactions_df)"
      ],
      "execution_count": 23,
      "outputs": [
        {
          "output_type": "stream",
          "name": "stdout",
          "text": [
            "Number of frauds from scenario 1: 978\n",
            "Number of frauds from scenario 2: 9099\n",
            "Number of frauds from scenario 3: 4604\n",
            "CPU times: user 1min 51s, sys: 668 ms, total: 1min 52s\n",
            "Wall time: 1min 52s\n"
          ]
        }
      ]
    },
    {
      "cell_type": "markdown",
      "metadata": {
        "id": "8TtfU2Ixo8En"
      },
      "source": [
        "Percentage of fraudulent transactions:"
      ]
    },
    {
      "cell_type": "code",
      "metadata": {
        "colab": {
          "base_uri": "https://localhost:8080/"
        },
        "id": "VKSIGLibo8Eo",
        "outputId": "f48c39f9-f39f-4322-f5f2-d28bde0bdd6d"
      },
      "source": [
        "transactions_df.TX_FRAUD.mean()"
      ],
      "execution_count": 24,
      "outputs": [
        {
          "output_type": "execute_result",
          "data": {
            "text/plain": [
              "0.008369271814634397"
            ]
          },
          "metadata": {},
          "execution_count": 24
        }
      ]
    },
    {
      "cell_type": "markdown",
      "metadata": {
        "id": "WnXnnYwpo8Eo"
      },
      "source": [
        "Number of fraudulent transactions:"
      ]
    },
    {
      "cell_type": "code",
      "metadata": {
        "colab": {
          "base_uri": "https://localhost:8080/"
        },
        "id": "qiZv2AzNo8Eo",
        "outputId": "f14bacc1-cd91-4302-8d70-f873cb8c725e"
      },
      "source": [
        "transactions_df.TX_FRAUD.sum()"
      ],
      "execution_count": 25,
      "outputs": [
        {
          "output_type": "execute_result",
          "data": {
            "text/plain": [
              "14681"
            ]
          },
          "metadata": {},
          "execution_count": 25
        }
      ]
    },
    {
      "cell_type": "markdown",
      "metadata": {
        "id": "QKjSVx1co8Ep"
      },
      "source": [
        "A total of 14681 transactions were marked as fraudulent. This amounts to 0.8% of the transactions. Note that the sum of the frauds for each scenario does not equal the total amount of fraudulent transactions. This is because the same transactions may have been marked as fraudulent by two or more fraud scenarios.  "
      ]
    },
    {
      "cell_type": "markdown",
      "metadata": {
        "id": "X_Ky_JLro8Ep"
      },
      "source": [
        "Our simulated transaction dataset is now complete, with a fraudulent label added to all transactions."
      ]
    },
    {
      "cell_type": "code",
      "metadata": {
        "colab": {
          "base_uri": "https://localhost:8080/",
          "height": 205
        },
        "id": "4vuOwu-Oo8Eq",
        "outputId": "5ea2f51a-e9fe-40db-9931-531a50257af6"
      },
      "source": [
        "transactions_df.head()"
      ],
      "execution_count": 26,
      "outputs": [
        {
          "output_type": "execute_result",
          "data": {
            "text/html": [
              "<div>\n",
              "<style scoped>\n",
              "    .dataframe tbody tr th:only-of-type {\n",
              "        vertical-align: middle;\n",
              "    }\n",
              "\n",
              "    .dataframe tbody tr th {\n",
              "        vertical-align: top;\n",
              "    }\n",
              "\n",
              "    .dataframe thead th {\n",
              "        text-align: right;\n",
              "    }\n",
              "</style>\n",
              "<table border=\"1\" class=\"dataframe\">\n",
              "  <thead>\n",
              "    <tr style=\"text-align: right;\">\n",
              "      <th></th>\n",
              "      <th>TRANSACTION_ID</th>\n",
              "      <th>TX_DATETIME</th>\n",
              "      <th>CUSTOMER_ID</th>\n",
              "      <th>TERMINAL_ID</th>\n",
              "      <th>TX_AMOUNT</th>\n",
              "      <th>TX_TIME_SECONDS</th>\n",
              "      <th>TX_TIME_DAYS</th>\n",
              "      <th>TX_FRAUD</th>\n",
              "      <th>TX_FRAUD_SCENARIO</th>\n",
              "    </tr>\n",
              "  </thead>\n",
              "  <tbody>\n",
              "    <tr>\n",
              "      <th>0</th>\n",
              "      <td>0</td>\n",
              "      <td>2021-04-01 00:00:31</td>\n",
              "      <td>596</td>\n",
              "      <td>3156</td>\n",
              "      <td>57.16</td>\n",
              "      <td>31</td>\n",
              "      <td>0</td>\n",
              "      <td>0</td>\n",
              "      <td>0</td>\n",
              "    </tr>\n",
              "    <tr>\n",
              "      <th>1</th>\n",
              "      <td>1</td>\n",
              "      <td>2021-04-01 00:02:10</td>\n",
              "      <td>4961</td>\n",
              "      <td>3412</td>\n",
              "      <td>81.51</td>\n",
              "      <td>130</td>\n",
              "      <td>0</td>\n",
              "      <td>0</td>\n",
              "      <td>0</td>\n",
              "    </tr>\n",
              "    <tr>\n",
              "      <th>2</th>\n",
              "      <td>2</td>\n",
              "      <td>2021-04-01 00:07:56</td>\n",
              "      <td>2</td>\n",
              "      <td>1365</td>\n",
              "      <td>146.00</td>\n",
              "      <td>476</td>\n",
              "      <td>0</td>\n",
              "      <td>0</td>\n",
              "      <td>0</td>\n",
              "    </tr>\n",
              "    <tr>\n",
              "      <th>3</th>\n",
              "      <td>3</td>\n",
              "      <td>2021-04-01 00:09:29</td>\n",
              "      <td>4128</td>\n",
              "      <td>8737</td>\n",
              "      <td>64.49</td>\n",
              "      <td>569</td>\n",
              "      <td>0</td>\n",
              "      <td>0</td>\n",
              "      <td>0</td>\n",
              "    </tr>\n",
              "    <tr>\n",
              "      <th>4</th>\n",
              "      <td>4</td>\n",
              "      <td>2021-04-01 00:10:34</td>\n",
              "      <td>927</td>\n",
              "      <td>9906</td>\n",
              "      <td>50.99</td>\n",
              "      <td>634</td>\n",
              "      <td>0</td>\n",
              "      <td>0</td>\n",
              "      <td>0</td>\n",
              "    </tr>\n",
              "  </tbody>\n",
              "</table>\n",
              "</div>"
            ],
            "text/plain": [
              "   TRANSACTION_ID         TX_DATETIME  ... TX_FRAUD TX_FRAUD_SCENARIO\n",
              "0               0 2021-04-01 00:00:31  ...        0                 0\n",
              "1               1 2021-04-01 00:02:10  ...        0                 0\n",
              "2               2 2021-04-01 00:07:56  ...        0                 0\n",
              "3               3 2021-04-01 00:09:29  ...        0                 0\n",
              "4               4 2021-04-01 00:10:34  ...        0                 0\n",
              "\n",
              "[5 rows x 9 columns]"
            ]
          },
          "metadata": {},
          "execution_count": 26
        }
      ]
    },
    {
      "cell_type": "code",
      "metadata": {
        "colab": {
          "base_uri": "https://localhost:8080/"
        },
        "id": "ED8cHZxco8Eq",
        "outputId": "d6ea4fd7-fc19-4144-8527-c4c205e76f32"
      },
      "source": [
        "transactions_df[transactions_df.TX_FRAUD_SCENARIO==1].shape"
      ],
      "execution_count": 27,
      "outputs": [
        {
          "output_type": "execute_result",
          "data": {
            "text/plain": [
              "(973, 9)"
            ]
          },
          "metadata": {},
          "execution_count": 27
        }
      ]
    },
    {
      "cell_type": "code",
      "metadata": {
        "colab": {
          "base_uri": "https://localhost:8080/"
        },
        "id": "1ayZReuMo8Eq",
        "outputId": "d2377d9f-552b-4a74-c3e1-f5f3e02d1712"
      },
      "source": [
        "transactions_df[transactions_df.TX_FRAUD_SCENARIO==2].shape"
      ],
      "execution_count": 28,
      "outputs": [
        {
          "output_type": "execute_result",
          "data": {
            "text/plain": [
              "(9077, 9)"
            ]
          },
          "metadata": {},
          "execution_count": 28
        }
      ]
    },
    {
      "cell_type": "code",
      "metadata": {
        "colab": {
          "base_uri": "https://localhost:8080/"
        },
        "id": "UCQ7Bdkeo8Er",
        "outputId": "959f7006-eb55-449c-e8f4-95b19ca2e0e3"
      },
      "source": [
        "transactions_df[transactions_df.TX_FRAUD_SCENARIO==3].shape"
      ],
      "execution_count": 29,
      "outputs": [
        {
          "output_type": "execute_result",
          "data": {
            "text/plain": [
              "(4631, 9)"
            ]
          },
          "metadata": {},
          "execution_count": 29
        }
      ]
    },
    {
      "cell_type": "markdown",
      "metadata": {
        "id": "aZNLsD22o8Er"
      },
      "source": [
        "Let us check how the number of transactions, the number of fraudulent transactions, and the number of frauded cards vary on a daily basis. "
      ]
    },
    {
      "cell_type": "code",
      "metadata": {
        "tags": [
          "hide-cell"
        ],
        "id": "4-sAVwlfo8Es"
      },
      "source": [
        "def get_stats(transactions_df):\n",
        "    #Number of transactions per day\n",
        "    nb_tx_per_day=transactions_df.groupby(['TX_TIME_DAYS'])['CUSTOMER_ID'].count()\n",
        "    #Number of fraudulent transactions per day\n",
        "    nb_fraud_per_day=transactions_df.groupby(['TX_TIME_DAYS'])['TX_FRAUD'].sum()\n",
        "    #Number of fraudulent cards per day\n",
        "    nb_fraudcard_per_day=transactions_df[transactions_df['TX_FRAUD']>0].groupby(['TX_TIME_DAYS']).CUSTOMER_ID.nunique()\n",
        "    \n",
        "    return (nb_tx_per_day,nb_fraud_per_day,nb_fraudcard_per_day)\n",
        "\n",
        "(nb_tx_per_day,nb_fraud_per_day,nb_fraudcard_per_day)=get_stats(transactions_df)\n",
        "\n",
        "n_days=len(nb_tx_per_day)\n",
        "tx_stats=pd.DataFrame({\"value\":pd.concat([nb_tx_per_day/50,nb_fraud_per_day,nb_fraudcard_per_day])})\n",
        "tx_stats['stat_type']=[\"nb_tx_per_day\"]*n_days+[\"nb_fraud_per_day\"]*n_days+[\"nb_fraudcard_per_day\"]*n_days\n",
        "tx_stats=tx_stats.reset_index()"
      ],
      "execution_count": 30,
      "outputs": []
    },
    {
      "cell_type": "code",
      "metadata": {
        "tags": [
          "hide-cell"
        ],
        "id": "qyfiDDNSo8Es"
      },
      "source": [
        "%%capture\n",
        "\n",
        "sns.set(style='darkgrid')\n",
        "sns.set(font_scale=1.4)\n",
        "\n",
        "fraud_and_transactions_stats_fig = plt.gcf()\n",
        "\n",
        "fraud_and_transactions_stats_fig.set_size_inches(15, 8)\n",
        "\n",
        "sns_plot = sns.lineplot(x=\"TX_TIME_DAYS\", y=\"value\", data=tx_stats, hue=\"stat_type\", hue_order=[\"nb_tx_per_day\",\"nb_fraud_per_day\",\"nb_fraudcard_per_day\"], legend=False)\n",
        "\n",
        "sns_plot.set_title('Total transactions, and number of fraudulent transactions \\n and number of frauded cards per day', fontsize=20)\n",
        "sns_plot.set(xlabel = \"Number of days since beginning of data generation\", ylabel=\"Number\")\n",
        "\n",
        "sns_plot.set_ylim([0,300])\n",
        "\n",
        "labels_legend = [\"# transactions per day (/50)\", \"# fraudulent txs per day\", \"# fraudulent cards per day\"]\n",
        "\n",
        "sns_plot.legend(loc='upper left', labels=labels_legend,bbox_to_anchor=(1.05, 1), fontsize=15)\n",
        "\n"
      ],
      "execution_count": 31,
      "outputs": []
    },
    {
      "cell_type": "code",
      "metadata": {
        "colab": {
          "base_uri": "https://localhost:8080/",
          "height": 502
        },
        "id": "8yUmZM2Vo8Et",
        "outputId": "58fef1ef-d9ab-48bd-b0ad-5184f69944e4"
      },
      "source": [
        "fraud_and_transactions_stats_fig"
      ],
      "execution_count": 32,
      "outputs": [
        {
          "output_type": "execute_result",
          "data": {
            "image/png": "[encoded data removed]",
            "text/plain": [
              "<Figure size 1080x576 with 1 Axes>"
            ]
          },
          "metadata": {},
          "execution_count": 32
        }
      ]
    },
    {
      "cell_type": "markdown",
      "metadata": {
        "id": "VheyDi5wo8Et"
      },
      "source": [
        "This simulation generated around 10000 transactions per day. The number of fraudulent transactions per day is around 85, and the number of fraudulent cards around 80. It is worth noting that the first month has a lower number of fraudulent transactions, which is due to the fact that frauds from scenarios 2 and 3 span periods of 28 and 14 days, respectively. \n",
        "\n",
        "The resulting dataset is interesting: It features class imbalance (less than 1% of fraudulent transactions), a mix of numerical and categorical features, non-trivial relationships between features, and time-dependent fraud scenarios.\n",
        "\n",
        "Let us finally save the dataset for reuse in the rest of this book."
      ]
    },
    {
      "cell_type": "code",
      "metadata": {
        "id": "NeWbfVSbFVeb"
      },
      "source": [
        "#writing df to a csv\n",
        "transactions_df.columns= transactions_df.columns.str.lower()\n",
        "transactions_df.to_csv(\"transactions_df.csv\" , index = False)"
      ],
      "execution_count": 36,
      "outputs": []
    },
    {
      "cell_type": "markdown",
      "metadata": {
        "id": "AUposCKno8Eu"
      },
      "source": [
        "The generated dataset is also available at Google Drive:[ transactions_df.csv](https://drive.google.com/file/d/15E9ZK3xQqYJT3z1pSBkXaVZNWi6q0T-i/view?usp=sharing)"
      ]
    }
  ]
}